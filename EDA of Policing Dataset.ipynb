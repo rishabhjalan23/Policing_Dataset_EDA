{
 "cells": [
  {
   "cell_type": "code",
   "execution_count": 2,
   "metadata": {},
   "outputs": [],
   "source": [
    "import pandas as pd\n",
    "import numpy as np\n",
    "import matplotlib.pyplot as plt\n",
    "import seaborn as sns\n",
    "\n",
    "%matplotlib inline"
   ]
  },
  {
   "cell_type": "code",
   "execution_count": 4,
   "metadata": {},
   "outputs": [
    {
     "data": {
      "text/html": [
       "<div>\n",
       "<style scoped>\n",
       "    .dataframe tbody tr th:only-of-type {\n",
       "        vertical-align: middle;\n",
       "    }\n",
       "\n",
       "    .dataframe tbody tr th {\n",
       "        vertical-align: top;\n",
       "    }\n",
       "\n",
       "    .dataframe thead th {\n",
       "        text-align: right;\n",
       "    }\n",
       "</style>\n",
       "<table border=\"1\" class=\"dataframe\">\n",
       "  <thead>\n",
       "    <tr style=\"text-align: right;\">\n",
       "      <th></th>\n",
       "      <th>state</th>\n",
       "      <th>stop_date</th>\n",
       "      <th>stop_time</th>\n",
       "      <th>county_name</th>\n",
       "      <th>driver_gender</th>\n",
       "      <th>driver_race</th>\n",
       "      <th>violation_raw</th>\n",
       "      <th>violation</th>\n",
       "      <th>search_conducted</th>\n",
       "      <th>search_type</th>\n",
       "      <th>stop_outcome</th>\n",
       "      <th>is_arrested</th>\n",
       "      <th>stop_duration</th>\n",
       "      <th>drugs_related_stop</th>\n",
       "      <th>district</th>\n",
       "    </tr>\n",
       "  </thead>\n",
       "  <tbody>\n",
       "    <tr>\n",
       "      <th>0</th>\n",
       "      <td>RI</td>\n",
       "      <td>2005-01-04</td>\n",
       "      <td>12:55</td>\n",
       "      <td>NaN</td>\n",
       "      <td>M</td>\n",
       "      <td>White</td>\n",
       "      <td>Equipment/Inspection Violation</td>\n",
       "      <td>Equipment</td>\n",
       "      <td>False</td>\n",
       "      <td>NaN</td>\n",
       "      <td>Citation</td>\n",
       "      <td>False</td>\n",
       "      <td>0-15 Min</td>\n",
       "      <td>False</td>\n",
       "      <td>Zone X4</td>\n",
       "    </tr>\n",
       "    <tr>\n",
       "      <th>1</th>\n",
       "      <td>RI</td>\n",
       "      <td>2005-01-23</td>\n",
       "      <td>23:15</td>\n",
       "      <td>NaN</td>\n",
       "      <td>M</td>\n",
       "      <td>White</td>\n",
       "      <td>Speeding</td>\n",
       "      <td>Speeding</td>\n",
       "      <td>False</td>\n",
       "      <td>NaN</td>\n",
       "      <td>Citation</td>\n",
       "      <td>False</td>\n",
       "      <td>0-15 Min</td>\n",
       "      <td>False</td>\n",
       "      <td>Zone K3</td>\n",
       "    </tr>\n",
       "    <tr>\n",
       "      <th>2</th>\n",
       "      <td>RI</td>\n",
       "      <td>2005-02-17</td>\n",
       "      <td>04:15</td>\n",
       "      <td>NaN</td>\n",
       "      <td>M</td>\n",
       "      <td>White</td>\n",
       "      <td>Speeding</td>\n",
       "      <td>Speeding</td>\n",
       "      <td>False</td>\n",
       "      <td>NaN</td>\n",
       "      <td>Citation</td>\n",
       "      <td>False</td>\n",
       "      <td>0-15 Min</td>\n",
       "      <td>False</td>\n",
       "      <td>Zone X4</td>\n",
       "    </tr>\n",
       "    <tr>\n",
       "      <th>3</th>\n",
       "      <td>RI</td>\n",
       "      <td>2005-02-20</td>\n",
       "      <td>17:15</td>\n",
       "      <td>NaN</td>\n",
       "      <td>M</td>\n",
       "      <td>White</td>\n",
       "      <td>Call for Service</td>\n",
       "      <td>Other</td>\n",
       "      <td>False</td>\n",
       "      <td>NaN</td>\n",
       "      <td>Arrest Driver</td>\n",
       "      <td>True</td>\n",
       "      <td>16-30 Min</td>\n",
       "      <td>False</td>\n",
       "      <td>Zone X1</td>\n",
       "    </tr>\n",
       "    <tr>\n",
       "      <th>4</th>\n",
       "      <td>RI</td>\n",
       "      <td>2005-02-24</td>\n",
       "      <td>01:20</td>\n",
       "      <td>NaN</td>\n",
       "      <td>F</td>\n",
       "      <td>White</td>\n",
       "      <td>Speeding</td>\n",
       "      <td>Speeding</td>\n",
       "      <td>False</td>\n",
       "      <td>NaN</td>\n",
       "      <td>Citation</td>\n",
       "      <td>False</td>\n",
       "      <td>0-15 Min</td>\n",
       "      <td>False</td>\n",
       "      <td>Zone X3</td>\n",
       "    </tr>\n",
       "  </tbody>\n",
       "</table>\n",
       "</div>"
      ],
      "text/plain": [
       "  state   stop_date stop_time  county_name driver_gender driver_race  \\\n",
       "0    RI  2005-01-04     12:55          NaN             M       White   \n",
       "1    RI  2005-01-23     23:15          NaN             M       White   \n",
       "2    RI  2005-02-17     04:15          NaN             M       White   \n",
       "3    RI  2005-02-20     17:15          NaN             M       White   \n",
       "4    RI  2005-02-24     01:20          NaN             F       White   \n",
       "\n",
       "                    violation_raw  violation  search_conducted search_type  \\\n",
       "0  Equipment/Inspection Violation  Equipment             False         NaN   \n",
       "1                        Speeding   Speeding             False         NaN   \n",
       "2                        Speeding   Speeding             False         NaN   \n",
       "3                Call for Service      Other             False         NaN   \n",
       "4                        Speeding   Speeding             False         NaN   \n",
       "\n",
       "    stop_outcome is_arrested stop_duration  drugs_related_stop district  \n",
       "0       Citation       False      0-15 Min               False  Zone X4  \n",
       "1       Citation       False      0-15 Min               False  Zone K3  \n",
       "2       Citation       False      0-15 Min               False  Zone X4  \n",
       "3  Arrest Driver        True     16-30 Min               False  Zone X1  \n",
       "4       Citation       False      0-15 Min               False  Zone X3  "
      ]
     },
     "execution_count": 4,
     "metadata": {},
     "output_type": "execute_result"
    }
   ],
   "source": [
    "ri = pd.read_csv('https://assets.datacamp.com/production/repositories/1497/datasets/62bd9feef451860db02d26553613a299721882e8/police.csv')\n",
    "ri.head()"
   ]
  },
  {
   "cell_type": "code",
   "execution_count": 5,
   "metadata": {},
   "outputs": [
    {
     "name": "stdout",
     "output_type": "stream",
     "text": [
      "<class 'pandas.core.frame.DataFrame'>\n",
      "RangeIndex: 91741 entries, 0 to 91740\n",
      "Data columns (total 15 columns):\n",
      " #   Column              Non-Null Count  Dtype  \n",
      "---  ------              --------------  -----  \n",
      " 0   state               91741 non-null  object \n",
      " 1   stop_date           91741 non-null  object \n",
      " 2   stop_time           91741 non-null  object \n",
      " 3   county_name         0 non-null      float64\n",
      " 4   driver_gender       86536 non-null  object \n",
      " 5   driver_race         86539 non-null  object \n",
      " 6   violation_raw       86539 non-null  object \n",
      " 7   violation           86539 non-null  object \n",
      " 8   search_conducted    91741 non-null  bool   \n",
      " 9   search_type         3307 non-null   object \n",
      " 10  stop_outcome        86539 non-null  object \n",
      " 11  is_arrested         86539 non-null  object \n",
      " 12  stop_duration       86539 non-null  object \n",
      " 13  drugs_related_stop  91741 non-null  bool   \n",
      " 14  district            91741 non-null  object \n",
      "dtypes: bool(2), float64(1), object(12)\n",
      "memory usage: 9.3+ MB\n"
     ]
    }
   ],
   "source": [
    "ri.info()"
   ]
  },
  {
   "cell_type": "code",
   "execution_count": 6,
   "metadata": {},
   "outputs": [
    {
     "data": {
      "text/plain": [
       "state                     0\n",
       "stop_date                 0\n",
       "stop_time                 0\n",
       "county_name           91741\n",
       "driver_gender          5205\n",
       "driver_race            5202\n",
       "violation_raw          5202\n",
       "violation              5202\n",
       "search_conducted          0\n",
       "search_type           88434\n",
       "stop_outcome           5202\n",
       "is_arrested            5202\n",
       "stop_duration          5202\n",
       "drugs_related_stop        0\n",
       "district                  0\n",
       "dtype: int64"
      ]
     },
     "execution_count": 6,
     "metadata": {},
     "output_type": "execute_result"
    }
   ],
   "source": [
    "# Analysing missing values\n",
    "ri.isnull().sum()"
   ]
  },
  {
   "cell_type": "code",
   "execution_count": 7,
   "metadata": {},
   "outputs": [
    {
     "data": {
      "text/plain": [
       "(91741, 13)"
      ]
     },
     "execution_count": 7,
     "metadata": {},
     "output_type": "execute_result"
    }
   ],
   "source": [
    "# Dropping a column 'state' 'county name'\n",
    "ri.drop(['state', 'county_name'], axis='columns', inplace=True)\n",
    "ri.shape"
   ]
  },
  {
   "cell_type": "code",
   "execution_count": 8,
   "metadata": {},
   "outputs": [
    {
     "data": {
      "text/plain": [
       "(86536, 13)"
      ]
     },
     "execution_count": 8,
     "metadata": {},
     "output_type": "execute_result"
    }
   ],
   "source": [
    "# Dropping rows based on the presence of missing values\n",
    "ri.dropna(subset=['driver_gender'], inplace=True)\n",
    "ri.shape"
   ]
  },
  {
   "cell_type": "code",
   "execution_count": 9,
   "metadata": {},
   "outputs": [
    {
     "data": {
      "text/plain": [
       "stop_date                 0\n",
       "stop_time                 0\n",
       "driver_gender             0\n",
       "driver_race               0\n",
       "violation_raw             0\n",
       "violation                 0\n",
       "search_conducted          0\n",
       "search_type           83229\n",
       "stop_outcome              0\n",
       "is_arrested               0\n",
       "stop_duration             0\n",
       "drugs_related_stop        0\n",
       "district                  0\n",
       "dtype: int64"
      ]
     },
     "execution_count": 9,
     "metadata": {},
     "output_type": "execute_result"
    }
   ],
   "source": [
    "ri.isnull().sum()"
   ]
  },
  {
   "cell_type": "code",
   "execution_count": 10,
   "metadata": {},
   "outputs": [
    {
     "data": {
      "text/plain": [
       "stop_date             object\n",
       "stop_time             object\n",
       "driver_gender         object\n",
       "driver_race           object\n",
       "violation_raw         object\n",
       "violation             object\n",
       "search_conducted        bool\n",
       "search_type           object\n",
       "stop_outcome          object\n",
       "is_arrested           object\n",
       "stop_duration         object\n",
       "drugs_related_stop      bool\n",
       "district              object\n",
       "dtype: object"
      ]
     },
     "execution_count": 10,
     "metadata": {},
     "output_type": "execute_result"
    }
   ],
   "source": [
    "# Fixing the data type \n",
    "ri.dtypes"
   ]
  },
  {
   "cell_type": "code",
   "execution_count": 11,
   "metadata": {},
   "outputs": [
    {
     "data": {
      "text/plain": [
       "0    False\n",
       "1    False\n",
       "2    False\n",
       "3     True\n",
       "4    False\n",
       "Name: is_arrested, dtype: object"
      ]
     },
     "execution_count": 11,
     "metadata": {},
     "output_type": "execute_result"
    }
   ],
   "source": [
    "ri.is_arrested.head()"
   ]
  },
  {
   "cell_type": "code",
   "execution_count": 12,
   "metadata": {},
   "outputs": [
    {
     "data": {
      "text/plain": [
       "0    False\n",
       "1    False\n",
       "2    False\n",
       "3     True\n",
       "4    False\n",
       "Name: is_arrested, dtype: bool"
      ]
     },
     "execution_count": 12,
     "metadata": {},
     "output_type": "execute_result"
    }
   ],
   "source": [
    "ri['is_arrested'] = ri.is_arrested.astype('bool')\n",
    "ri.is_arrested.head()"
   ]
  },
  {
   "cell_type": "code",
   "execution_count": 13,
   "metadata": {},
   "outputs": [
    {
     "data": {
      "text/plain": [
       "stop_date                     object\n",
       "stop_time                     object\n",
       "driver_gender                 object\n",
       "driver_race                   object\n",
       "violation_raw                 object\n",
       "violation                     object\n",
       "search_conducted                bool\n",
       "search_type                   object\n",
       "stop_outcome                  object\n",
       "is_arrested                     bool\n",
       "stop_duration                 object\n",
       "drugs_related_stop              bool\n",
       "district                      object\n",
       "stop_datetime         datetime64[ns]\n",
       "dtype: object"
      ]
     },
     "execution_count": 13,
     "metadata": {},
     "output_type": "execute_result"
    }
   ],
   "source": [
    "# Concatenating 'stop_date' and 'stop_time' (separated by a space)\n",
    "combined = ri.stop_date.str.cat(ri.stop_time, sep=' ')\n",
    "ri['stop_datetime'] = pd.to_datetime(combined)\n",
    "ri.dtypes"
   ]
  },
  {
   "cell_type": "code",
   "execution_count": 14,
   "metadata": {},
   "outputs": [
    {
     "data": {
      "text/html": [
       "<div>\n",
       "<style scoped>\n",
       "    .dataframe tbody tr th:only-of-type {\n",
       "        vertical-align: middle;\n",
       "    }\n",
       "\n",
       "    .dataframe tbody tr th {\n",
       "        vertical-align: top;\n",
       "    }\n",
       "\n",
       "    .dataframe thead th {\n",
       "        text-align: right;\n",
       "    }\n",
       "</style>\n",
       "<table border=\"1\" class=\"dataframe\">\n",
       "  <thead>\n",
       "    <tr style=\"text-align: right;\">\n",
       "      <th></th>\n",
       "      <th>stop_date</th>\n",
       "      <th>stop_time</th>\n",
       "      <th>driver_gender</th>\n",
       "      <th>driver_race</th>\n",
       "      <th>violation_raw</th>\n",
       "      <th>violation</th>\n",
       "      <th>search_conducted</th>\n",
       "      <th>search_type</th>\n",
       "      <th>stop_outcome</th>\n",
       "      <th>is_arrested</th>\n",
       "      <th>stop_duration</th>\n",
       "      <th>drugs_related_stop</th>\n",
       "      <th>district</th>\n",
       "    </tr>\n",
       "    <tr>\n",
       "      <th>stop_datetime</th>\n",
       "      <th></th>\n",
       "      <th></th>\n",
       "      <th></th>\n",
       "      <th></th>\n",
       "      <th></th>\n",
       "      <th></th>\n",
       "      <th></th>\n",
       "      <th></th>\n",
       "      <th></th>\n",
       "      <th></th>\n",
       "      <th></th>\n",
       "      <th></th>\n",
       "      <th></th>\n",
       "    </tr>\n",
       "  </thead>\n",
       "  <tbody>\n",
       "    <tr>\n",
       "      <th>2005-01-04 12:55:00</th>\n",
       "      <td>2005-01-04</td>\n",
       "      <td>12:55</td>\n",
       "      <td>M</td>\n",
       "      <td>White</td>\n",
       "      <td>Equipment/Inspection Violation</td>\n",
       "      <td>Equipment</td>\n",
       "      <td>False</td>\n",
       "      <td>NaN</td>\n",
       "      <td>Citation</td>\n",
       "      <td>False</td>\n",
       "      <td>0-15 Min</td>\n",
       "      <td>False</td>\n",
       "      <td>Zone X4</td>\n",
       "    </tr>\n",
       "    <tr>\n",
       "      <th>2005-01-23 23:15:00</th>\n",
       "      <td>2005-01-23</td>\n",
       "      <td>23:15</td>\n",
       "      <td>M</td>\n",
       "      <td>White</td>\n",
       "      <td>Speeding</td>\n",
       "      <td>Speeding</td>\n",
       "      <td>False</td>\n",
       "      <td>NaN</td>\n",
       "      <td>Citation</td>\n",
       "      <td>False</td>\n",
       "      <td>0-15 Min</td>\n",
       "      <td>False</td>\n",
       "      <td>Zone K3</td>\n",
       "    </tr>\n",
       "    <tr>\n",
       "      <th>2005-02-17 04:15:00</th>\n",
       "      <td>2005-02-17</td>\n",
       "      <td>04:15</td>\n",
       "      <td>M</td>\n",
       "      <td>White</td>\n",
       "      <td>Speeding</td>\n",
       "      <td>Speeding</td>\n",
       "      <td>False</td>\n",
       "      <td>NaN</td>\n",
       "      <td>Citation</td>\n",
       "      <td>False</td>\n",
       "      <td>0-15 Min</td>\n",
       "      <td>False</td>\n",
       "      <td>Zone X4</td>\n",
       "    </tr>\n",
       "  </tbody>\n",
       "</table>\n",
       "</div>"
      ],
      "text/plain": [
       "                      stop_date stop_time driver_gender driver_race  \\\n",
       "stop_datetime                                                         \n",
       "2005-01-04 12:55:00  2005-01-04     12:55             M       White   \n",
       "2005-01-23 23:15:00  2005-01-23     23:15             M       White   \n",
       "2005-02-17 04:15:00  2005-02-17     04:15             M       White   \n",
       "\n",
       "                                      violation_raw  violation  \\\n",
       "stop_datetime                                                    \n",
       "2005-01-04 12:55:00  Equipment/Inspection Violation  Equipment   \n",
       "2005-01-23 23:15:00                        Speeding   Speeding   \n",
       "2005-02-17 04:15:00                        Speeding   Speeding   \n",
       "\n",
       "                     search_conducted search_type stop_outcome  is_arrested  \\\n",
       "stop_datetime                                                                 \n",
       "2005-01-04 12:55:00             False         NaN     Citation        False   \n",
       "2005-01-23 23:15:00             False         NaN     Citation        False   \n",
       "2005-02-17 04:15:00             False         NaN     Citation        False   \n",
       "\n",
       "                    stop_duration  drugs_related_stop district  \n",
       "stop_datetime                                                   \n",
       "2005-01-04 12:55:00      0-15 Min               False  Zone X4  \n",
       "2005-01-23 23:15:00      0-15 Min               False  Zone K3  \n",
       "2005-02-17 04:15:00      0-15 Min               False  Zone X4  "
      ]
     },
     "execution_count": 14,
     "metadata": {},
     "output_type": "execute_result"
    }
   ],
   "source": [
    "# Setting stop_datetime as index\n",
    "ri.set_index('stop_datetime', inplace=True)\n",
    "ri.head(3)"
   ]
  },
  {
   "cell_type": "code",
   "execution_count": 15,
   "metadata": {},
   "outputs": [
    {
     "data": {
      "text/plain": [
       "Speeding               0.559571\n",
       "Moving violation       0.187483\n",
       "Equipment              0.126202\n",
       "Other                  0.050950\n",
       "Registration/plates    0.042791\n",
       "Seat belt              0.033004\n",
       "Name: violation, dtype: float64"
      ]
     },
     "execution_count": 15,
     "metadata": {},
     "output_type": "execute_result"
    }
   ],
   "source": [
    "# Exploring the analysis between gender and policing\n",
    "ri.violation.value_counts(normalize=True)"
   ]
  },
  {
   "cell_type": "code",
   "execution_count": 16,
   "metadata": {},
   "outputs": [
    {
     "name": "stdout",
     "output_type": "stream",
     "text": [
      "Speeding               0.658114\n",
      "Moving violation       0.138218\n",
      "Equipment              0.105199\n",
      "Registration/plates    0.044418\n",
      "Other                  0.029738\n",
      "Seat belt              0.024312\n",
      "Name: violation, dtype: float64\n",
      "Speeding               0.522243\n",
      "Moving violation       0.206144\n",
      "Equipment              0.134158\n",
      "Other                  0.058985\n",
      "Registration/plates    0.042175\n",
      "Seat belt              0.036296\n",
      "Name: violation, dtype: float64\n"
     ]
    }
   ],
   "source": [
    "female = ri[ri.driver_gender == 'F']\n",
    "male = ri[ri.driver_gender == 'M']\n",
    "print(female.violation.value_counts(normalize=True))\n",
    "print(male.violation.value_counts(normalize=True))"
   ]
  },
  {
   "cell_type": "code",
   "execution_count": 17,
   "metadata": {},
   "outputs": [
    {
     "data": {
      "text/plain": [
       "<matplotlib.legend.Legend at 0x21b4e43e400>"
      ]
     },
     "execution_count": 17,
     "metadata": {},
     "output_type": "execute_result"
    },
    {
     "data": {
      "image/png": "[encoded data removed]",
      "text/plain": [
       "<Figure size 432x288 with 1 Axes>"
      ]
     },
     "metadata": {
      "needs_background": "light"
     },
     "output_type": "display_data"
    }
   ],
   "source": [
    "plt.bar(ri.violation.unique(), female.violation.value_counts(normalize=True),color='m', alpha=0.5)\n",
    "plt.bar(ri.violation.unique(), male.violation.value_counts(normalize=True),color='b', alpha=0.3)\n",
    "plt.xlabel('Violation')\n",
    "plt.xticks(rotation=45)\n",
    "plt.ylabel('Proportion of violation')\n",
    "plt.title('Gender vs. Violations')\n",
    "plt.legend({'Female': 'Magenta', 'Male' : 'Blue'})"
   ]
  },
  {
   "cell_type": "code",
   "execution_count": 18,
   "metadata": {},
   "outputs": [
    {
     "name": "stdout",
     "output_type": "stream",
     "text": [
      "Citation            0.952192\n",
      "Warning             0.040074\n",
      "Arrest Driver       0.005752\n",
      "N/D                 0.000959\n",
      "Arrest Passenger    0.000639\n",
      "No Action           0.000383\n",
      "Name: stop_outcome, dtype: float64\n",
      "Citation            0.944595\n",
      "Warning             0.036184\n",
      "Arrest Driver       0.015895\n",
      "Arrest Passenger    0.001281\n",
      "No Action           0.001068\n",
      "N/D                 0.000976\n",
      "Name: stop_outcome, dtype: float64\n"
     ]
    }
   ],
   "source": [
    "# Computing a stop outcome of male and female for speeding\n",
    "female_and_speeding = ri[(ri.driver_gender =='F') & (ri.violation == 'Speeding')]\n",
    "male_and_speeding = ri[(ri.driver_gender =='M') & (ri.violation == 'Speeding')]\n",
    "print(female_and_speeding.stop_outcome.value_counts(normalize=True))\n",
    "print(male_and_speeding.stop_outcome.value_counts(normalize=True))"
   ]
  },
  {
   "cell_type": "code",
   "execution_count": 19,
   "metadata": {},
   "outputs": [
    {
     "data": {
      "text/plain": [
       "<matplotlib.legend.Legend at 0x21b48c06520>"
      ]
     },
     "execution_count": 19,
     "metadata": {},
     "output_type": "execute_result"
    },
    {
     "data": {
      "image/png": "[encoded data removed]",
      "text/plain": [
       "<Figure size 432x288 with 1 Axes>"
      ]
     },
     "metadata": {
      "needs_background": "light"
     },
     "output_type": "display_data"
    }
   ],
   "source": [
    "plt.bar(ri.stop_outcome.unique(), female_and_speeding.stop_outcome.value_counts(normalize=True),color='m', alpha=0.3)\n",
    "plt.bar(ri.stop_outcome.unique(), male_and_speeding.stop_outcome.value_counts(normalize=True),color='b', alpha=0.3)\n",
    "plt.xlabel('Stop_Outcome')\n",
    "plt.xticks(rotation=45)\n",
    "plt.ylabel('Proportion of stop_come')\n",
    "plt.title('Gender vs. Stop Outcome')\n",
    "plt.legend({'Female': 'Magenta', 'Male' : 'Blue'})"
   ]
  },
  {
   "cell_type": "code",
   "execution_count": 20,
   "metadata": {},
   "outputs": [
    {
     "name": "stdout",
     "output_type": "stream",
     "text": [
      "driver_gender\n",
      "F    0.019181\n",
      "M    0.045426\n",
      "Name: search_conducted, dtype: float64\n"
     ]
    }
   ],
   "source": [
    "# Gender vs. Search Rate\n",
    "print(ri.groupby('driver_gender').search_conducted.mean())"
   ]
  },
  {
   "cell_type": "code",
   "execution_count": 21,
   "metadata": {},
   "outputs": [
    {
     "name": "stdout",
     "output_type": "stream",
     "text": [
      "violation            driver_gender\n",
      "Equipment            F                0.039984\n",
      "                     M                0.071496\n",
      "Moving violation     F                0.039257\n",
      "                     M                0.061524\n",
      "Other                F                0.041018\n",
      "                     M                0.046191\n",
      "Registration/plates  F                0.054924\n",
      "                     M                0.108802\n",
      "Seat belt            F                0.017301\n",
      "                     M                0.035119\n",
      "Speeding             F                0.008309\n",
      "                     M                0.027885\n",
      "Name: search_conducted, dtype: float64\n"
     ]
    }
   ],
   "source": [
    "# Gender vs. Search Rate based on violation\n",
    "print(ri.groupby(['violation', 'driver_gender']).search_conducted.mean())"
   ]
  },
  {
   "cell_type": "code",
   "execution_count": 22,
   "metadata": {},
   "outputs": [
    {
     "data": {
      "text/plain": [
       "NaN                                                         83229\n",
       "Incident to Arrest                                           1290\n",
       "Probable Cause                                                924\n",
       "Inventory                                                     219\n",
       "Reasonable Suspicion                                          214\n",
       "Protective Frisk                                              164\n",
       "Incident to Arrest,Inventory                                  123\n",
       "Incident to Arrest,Probable Cause                             100\n",
       "Probable Cause,Reasonable Suspicion                            54\n",
       "Incident to Arrest,Inventory,Probable Cause                    35\n",
       "Probable Cause,Protective Frisk                                35\n",
       "Incident to Arrest,Protective Frisk                            33\n",
       "Inventory,Probable Cause                                       25\n",
       "Protective Frisk,Reasonable Suspicion                          19\n",
       "Incident to Arrest,Inventory,Protective Frisk                  18\n",
       "Incident to Arrest,Probable Cause,Protective Frisk             13\n",
       "Inventory,Protective Frisk                                     12\n",
       "Incident to Arrest,Reasonable Suspicion                         8\n",
       "Incident to Arrest,Probable Cause,Reasonable Suspicion          5\n",
       "Probable Cause,Protective Frisk,Reasonable Suspicion            5\n",
       "Incident to Arrest,Inventory,Reasonable Suspicion               4\n",
       "Inventory,Reasonable Suspicion                                  2\n",
       "Incident to Arrest,Protective Frisk,Reasonable Suspicion        2\n",
       "Inventory,Probable Cause,Reasonable Suspicion                   1\n",
       "Inventory,Protective Frisk,Reasonable Suspicion                 1\n",
       "Inventory,Probable Cause,Protective Frisk                       1\n",
       "Name: search_type, dtype: int64"
      ]
     },
     "execution_count": 22,
     "metadata": {},
     "output_type": "execute_result"
    }
   ],
   "source": [
    "# Gender vs. Frisk rate\n",
    "ri.search_conducted.value_counts()\n",
    "ri.search_type.value_counts(dropna=False)"
   ]
  },
  {
   "cell_type": "code",
   "execution_count": 23,
   "metadata": {},
   "outputs": [
    {
     "name": "stdout",
     "output_type": "stream",
     "text": [
      "303\n"
     ]
    }
   ],
   "source": [
    "# Checking if search_type contains the string 'Protective Frisk', Create Frisk col. of bool dtype\n",
    "ri['frisk'] = ri.search_type.str.contains('Protective Frisk', na=False)\n",
    "print(ri.frisk.sum())"
   ]
  },
  {
   "cell_type": "code",
   "execution_count": 24,
   "metadata": {},
   "outputs": [
    {
     "name": "stdout",
     "output_type": "stream",
     "text": [
      "0.09162382824312065\n"
     ]
    }
   ],
   "source": [
    "# Creating a dataframe in which search was conducted\n",
    "searched = ri[ri.search_conducted == True]\n",
    "print(searched.frisk.mean())"
   ]
  },
  {
   "cell_type": "code",
   "execution_count": 25,
   "metadata": {},
   "outputs": [
    {
     "name": "stdout",
     "output_type": "stream",
     "text": [
      "driver_gender\n",
      "F    0.074561\n",
      "M    0.094353\n",
      "Name: frisk, dtype: float64\n"
     ]
    }
   ],
   "source": [
    "print(searched.groupby('driver_gender').frisk.mean())"
   ]
  },
  {
   "cell_type": "code",
   "execution_count": 26,
   "metadata": {},
   "outputs": [
    {
     "name": "stdout",
     "output_type": "stream",
     "text": [
      "0.0355690117407784\n"
     ]
    },
    {
     "data": {
      "text/plain": [
       "Text(0.5, 1.0, 'Hours vs. Mean Arrest Rate')"
      ]
     },
     "execution_count": 26,
     "metadata": {},
     "output_type": "execute_result"
    },
    {
     "data": {
      "image/png": "[encoded data removed]",
      "text/plain": [
       "<Figure size 432x288 with 1 Axes>"
      ]
     },
     "metadata": {
      "needs_background": "light"
     },
     "output_type": "display_data"
    }
   ],
   "source": [
    "# time of day vs. arrest rate\n",
    "print(ri.is_arrested.mean())\n",
    "hourly_arrest_rate = ri.groupby(ri.index.hour).is_arrested.mean()\n",
    "hourly_arrest_rate.plot()\n",
    "plt.xlabel('hours')\n",
    "plt.ylabel('Mean Arrest Rate')\n",
    "plt.title('Hours vs. Mean Arrest Rate')"
   ]
  },
  {
   "cell_type": "code",
   "execution_count": 27,
   "metadata": {},
   "outputs": [
    {
     "data": {
      "text/plain": [
       "Text(0.5, 1.0, 'Annual Drugs Related Stop Rate')"
      ]
     },
     "execution_count": 27,
     "metadata": {},
     "output_type": "execute_result"
    },
    {
     "data": {
      "image/png": "[encoded data removed]",
      "text/plain": [
       "<Figure size 432x288 with 1 Axes>"
      ]
     },
     "metadata": {
      "needs_background": "light"
     },
     "output_type": "display_data"
    }
   ],
   "source": [
    "# Drugs related stops\n",
    "# resampling the drugs related stops based on annual frequency\n",
    "annual_drugs_rate = ri.drugs_related_stop.resample('A').mean()\n",
    "annual_drugs_rate.plot()\n",
    "plt.xlabel('Years')\n",
    "plt.ylabel('Drugs_related_stop_rate')\n",
    "plt.title('Annual Drugs Related Stop Rate')"
   ]
  },
  {
   "cell_type": "code",
   "execution_count": 28,
   "metadata": {},
   "outputs": [
    {
     "data": {
      "text/plain": [
       "Text(0.5, 1.0, 'Annual Drugs Related Stop Rate')"
      ]
     },
     "execution_count": 28,
     "metadata": {},
     "output_type": "execute_result"
    },
    {
     "data": {
      "image/png": "[encoded data removed]",
      "text/plain": [
       "<Figure size 432x288 with 2 Axes>"
      ]
     },
     "metadata": {
      "needs_background": "light"
     },
     "output_type": "display_data"
    }
   ],
   "source": [
    "# Comparing drug and search rate\n",
    "# resampling search rate annually\n",
    "annual_search_rate = ri.search_conducted.resample('A').mean()\n",
    "#concatenating drug rate and search rate as annual\n",
    "annual = pd.concat([annual_drugs_rate, annual_search_rate], axis='columns')\n",
    "annual.plot(subplots = True)\n",
    "plt.xlabel('Years')\n",
    "plt.title('Annual Drugs Related Stop Rate')"
   ]
  },
  {
   "cell_type": "code",
   "execution_count": 29,
   "metadata": {},
   "outputs": [
    {
     "data": {
      "text/plain": [
       "<matplotlib.axes._subplots.AxesSubplot at 0x21b4ff1fb50>"
      ]
     },
     "execution_count": 29,
     "metadata": {},
     "output_type": "execute_result"
    },
    {
     "data": {
      "image/png": "[encoded data removed]",
      "text/plain": [
       "<Figure size 432x288 with 1 Axes>"
      ]
     },
     "metadata": {
      "needs_background": "light"
     },
     "output_type": "display_data"
    }
   ],
   "source": [
    "# Districtwise violations\n",
    "all_zones = pd.crosstab(ri.district, ri.violation)\n",
    "all_zones.plot(kind='bar')"
   ]
  },
  {
   "cell_type": "code",
   "execution_count": 30,
   "metadata": {},
   "outputs": [
    {
     "name": "stdout",
     "output_type": "stream",
     "text": [
      "['0-15 Min' '16-30 Min' '30+ Min']\n"
     ]
    }
   ],
   "source": [
    "#Stop length for violations\n",
    "print(ri.stop_duration.unique())"
   ]
  },
  {
   "cell_type": "code",
   "execution_count": 31,
   "metadata": {},
   "outputs": [
    {
     "name": "stdout",
     "output_type": "stream",
     "text": [
      "[ 8 23 45]\n"
     ]
    }
   ],
   "source": [
    "# Converting stop duration strings to integer using the mapping the dictionary\n",
    "mapping = {'0-15 Min' : 8, '16-30 Min' : 23, '30+ Min' : 45}\n",
    "ri['stop_minutes'] = ri.stop_duration.map(mapping)\n",
    "print(ri.stop_minutes.unique())"
   ]
  },
  {
   "cell_type": "code",
   "execution_count": 32,
   "metadata": {},
   "outputs": [
    {
     "data": {
      "text/plain": [
       "Text(0.5, 1.0, 'Avg. Stop Length per Violation')"
      ]
     },
     "execution_count": 32,
     "metadata": {},
     "output_type": "execute_result"
    },
    {
     "data": {
      "image/png": "[encoded data removed]",
      "text/plain": [
       "<Figure size 432x288 with 1 Axes>"
      ]
     },
     "metadata": {
      "needs_background": "light"
     },
     "output_type": "display_data"
    }
   ],
   "source": [
    "# Plotting stop length\n",
    "stop_length = ri.groupby('violation_raw').stop_minutes.mean()\n",
    "stop_length.sort_values().plot(kind='barh')\n",
    "plt.xlabel('minutes')\n",
    "plt.ylabel('violation')\n",
    "plt.title('Avg. Stop Length per Violation')"
   ]
  },
  {
   "cell_type": "code",
   "execution_count": 63,
   "metadata": {},
   "outputs": [
    {
     "name": "stdout",
     "output_type": "stream",
     "text": [
      "driver_gender\n",
      "F    10.846429\n",
      "M    12.103311\n",
      "Name: stop_minutes, dtype: float64\n"
     ]
    }
   ],
   "source": [
    "# stop leangth vs gender\n",
    "stop_length_gender = ri.groupby('driver_gender').stop_minutes.mean()\n",
    "print(stop_length_gender)"
   ]
  },
  {
   "cell_type": "code",
   "execution_count": 33,
   "metadata": {},
   "outputs": [
    {
     "name": "stdout",
     "output_type": "stream",
     "text": [
      "['White' 'Asian' 'Black' 'Hispanic' 'Other']\n"
     ]
    }
   ],
   "source": [
    "# Analysis based on race\n",
    "print(ri.driver_race.unique())"
   ]
  },
  {
   "cell_type": "code",
   "execution_count": 67,
   "metadata": {},
   "outputs": [
    {
     "data": {
      "text/plain": [
       "<matplotlib.axes._subplots.AxesSubplot at 0x21b50079880>"
      ]
     },
     "execution_count": 67,
     "metadata": {},
     "output_type": "execute_result"
    },
    {
     "data": {
      "image/png": "[encoded data removed]",
      "text/plain": [
       "<Figure size 432x288 with 1 Axes>"
      ]
     },
     "metadata": {
      "needs_background": "light"
     },
     "output_type": "display_data"
    }
   ],
   "source": [
    "# Driver race vs. gender\n",
    "table = pd.crosstab(ri.driver_race, ri.driver_gender)\n",
    "table.plot(kind='bar')"
   ]
  },
  {
   "cell_type": "code",
   "execution_count": 36,
   "metadata": {},
   "outputs": [],
   "source": [
    "# Driver race and violation type\n",
    "asian = ri[ri.driver_race == 'Asian']\n",
    "black = ri[ri.driver_race == 'Black']\n",
    "hispanic = ri[ri.driver_race == 'Hispanic']\n",
    "other = ri[ri.driver_race == 'Other']\n",
    "white = ri[ri.driver_race == 'White']"
   ]
  },
  {
   "cell_type": "code",
   "execution_count": 37,
   "metadata": {},
   "outputs": [
    {
     "data": {
      "text/plain": [
       "Speeding               0.678108\n",
       "Moving violation       0.133110\n",
       "Equipment              0.091670\n",
       "Other                  0.046463\n",
       "Registration/plates    0.028882\n",
       "Seat belt              0.021766\n",
       "Name: violation, dtype: float64"
      ]
     },
     "execution_count": 37,
     "metadata": {},
     "output_type": "execute_result"
    }
   ],
   "source": [
    "asian.violation.value_counts(normalize = True)"
   ]
  },
  {
   "cell_type": "code",
   "execution_count": 38,
   "metadata": {},
   "outputs": [
    {
     "data": {
      "text/plain": [
       "Speeding               0.411070\n",
       "Moving violation       0.239316\n",
       "Equipment              0.175254\n",
       "Registration/plates    0.070737\n",
       "Other                  0.066504\n",
       "Seat belt              0.037118\n",
       "Name: violation, dtype: float64"
      ]
     },
     "execution_count": 38,
     "metadata": {},
     "output_type": "execute_result"
    }
   ],
   "source": [
    "black.violation.value_counts(normalize = True)"
   ]
  },
  {
   "cell_type": "code",
   "execution_count": 39,
   "metadata": {},
   "outputs": [
    {
     "data": {
      "text/plain": [
       "Speeding               0.335252\n",
       "Moving violation       0.244783\n",
       "Equipment              0.222885\n",
       "Registration/plates    0.079778\n",
       "Other                  0.064254\n",
       "Seat belt              0.053048\n",
       "Name: violation, dtype: float64"
      ]
     },
     "execution_count": 39,
     "metadata": {},
     "output_type": "execute_result"
    }
   ],
   "source": [
    "hispanic.violation.value_counts(normalize = True)"
   ]
  },
  {
   "cell_type": "code",
   "execution_count": 40,
   "metadata": {},
   "outputs": [
    {
     "data": {
      "text/plain": [
       "Speeding               0.630189\n",
       "Moving violation       0.218868\n",
       "Equipment              0.052830\n",
       "Other                  0.049057\n",
       "Registration/plates    0.033962\n",
       "Seat belt              0.015094\n",
       "Name: violation, dtype: float64"
      ]
     },
     "execution_count": 40,
     "metadata": {},
     "output_type": "execute_result"
    }
   ],
   "source": [
    "other.violation.value_counts(normalize = True)"
   ]
  },
  {
   "cell_type": "code",
   "execution_count": 41,
   "metadata": {},
   "outputs": [
    {
     "data": {
      "text/plain": [
       "Speeding               0.619444\n",
       "Moving violation       0.170147\n",
       "Equipment              0.102909\n",
       "Other                  0.045951\n",
       "Registration/plates    0.032003\n",
       "Seat belt              0.029546\n",
       "Name: violation, dtype: float64"
      ]
     },
     "execution_count": 41,
     "metadata": {},
     "output_type": "execute_result"
    }
   ],
   "source": [
    "white.violation.value_counts(normalize = True)"
   ]
  },
  {
   "cell_type": "code",
   "execution_count": 46,
   "metadata": {},
   "outputs": [
    {
     "name": "stdout",
     "output_type": "stream",
     "text": [
      "Citation            0.963580\n",
      "Warning             0.027778\n",
      "Arrest Driver       0.006173\n",
      "No Action           0.001235\n",
      "N/D                 0.000617\n",
      "Arrest Passenger    0.000617\n",
      "Name: stop_outcome, dtype: float64\n",
      "Citation            0.922376\n",
      "Warning             0.046139\n",
      "Arrest Driver       0.026337\n",
      "Arrest Passenger    0.003564\n",
      "No Action           0.001386\n",
      "N/D                 0.000198\n",
      "Name: stop_outcome, dtype: float64\n",
      "Citation            0.925790\n",
      "Warning             0.041092\n",
      "Arrest Driver       0.028826\n",
      "Arrest Passenger    0.002147\n",
      "No Action           0.001840\n",
      "N/D                 0.000307\n",
      "Name: stop_outcome, dtype: float64\n",
      "Citation     0.964072\n",
      "Warning      0.029940\n",
      "No Action    0.005988\n",
      "Name: stop_outcome, dtype: float64\n",
      "Citation            0.951337\n",
      "Warning             0.036425\n",
      "Arrest Driver       0.009759\n",
      "N/D                 0.001148\n",
      "Arrest Passenger    0.000678\n",
      "No Action           0.000652\n",
      "Name: stop_outcome, dtype: float64\n"
     ]
    }
   ],
   "source": [
    "asian_and_speeding = ri[(ri.driver_race == 'Asian') & (ri.violation == 'Speeding')]\n",
    "black_and_speeding = ri[(ri.driver_race == 'Black') & (ri.violation == 'Speeding')]\n",
    "hispanic_and_speeding = ri[(ri.driver_race == 'Hispanic') & (ri.violation == 'Speeding')]\n",
    "other_and_speeding = ri[(ri.driver_race == 'Other') & (ri.violation == 'Speeding')]\n",
    "white_and_speeding = ri[(ri.driver_race == 'White') & (ri.violation == 'Speeding')]\n",
    "\n",
    "print(asian_and_speeding.stop_outcome.value_counts(normalize=True))\n",
    "print(black_and_speeding.stop_outcome.value_counts(normalize=True))\n",
    "print(hispanic_and_speeding.stop_outcome.value_counts(normalize=True))\n",
    "print(other_and_speeding.stop_outcome.value_counts(normalize=True))\n",
    "print(white_and_speeding.stop_outcome.value_counts(normalize=True))"
   ]
  },
  {
   "cell_type": "code",
   "execution_count": 48,
   "metadata": {},
   "outputs": [
    {
     "name": "stdout",
     "output_type": "stream",
     "text": [
      "driver_race\n",
      "Asian       0.020511\n",
      "Black       0.066992\n",
      "Hispanic    0.061478\n",
      "Other       0.011321\n",
      "White       0.029643\n",
      "Name: search_conducted, dtype: float64\n"
     ]
    }
   ],
   "source": [
    "print(ri.groupby('driver_race').search_conducted.mean())"
   ]
  },
  {
   "cell_type": "code",
   "execution_count": 49,
   "metadata": {},
   "outputs": [
    {
     "name": "stdout",
     "output_type": "stream",
     "text": [
      "driver_race             Asian     Black  Hispanic     Other     White\n",
      "violation                                                            \n",
      "Equipment            0.018265  0.086856  0.071033  0.000000  0.056070\n",
      "Moving violation     0.047170  0.074490  0.065939  0.017241  0.050632\n",
      "Other                0.036036  0.034272  0.054400  0.000000  0.047133\n",
      "Registration/plates  0.057971  0.108170  0.105670  0.111111  0.083333\n",
      "Seat belt            0.076923  0.052632  0.048450  0.250000  0.019694\n",
      "Speeding             0.011111  0.053663  0.044772  0.000000  0.015890\n"
     ]
    }
   ],
   "source": [
    "race_vs_violation = ri.pivot_table(index='violation', columns='driver_race', values='search_conducted')\n",
    "print(race_vs_violation)"
   ]
  },
  {
   "cell_type": "code",
   "execution_count": 50,
   "metadata": {},
   "outputs": [
    {
     "name": "stdout",
     "output_type": "stream",
     "text": [
      "driver_race\n",
      "Asian       0.081633\n",
      "Black       0.080194\n",
      "Hispanic    0.063545\n",
      "Other       0.000000\n",
      "White       0.106325\n",
      "Name: frisk, dtype: float64\n"
     ]
    }
   ],
   "source": [
    "# Race vs. Frisk rate\n",
    "print(searched.groupby('driver_race').frisk.mean())"
   ]
  },
  {
   "cell_type": "code",
   "execution_count": 68,
   "metadata": {},
   "outputs": [
    {
     "name": "stdout",
     "output_type": "stream",
     "text": [
      "driver_gender         F         M\n",
      "driver_race                      \n",
      "Asian          0.003630  0.005985\n",
      "Black          0.008206  0.020721\n",
      "Hispanic       0.003584  0.015951\n",
      "Other          0.000000  0.004717\n",
      "White          0.004100  0.009692\n"
     ]
    },
    {
     "data": {
      "text/plain": [
       "<matplotlib.axes._subplots.AxesSubplot at 0x21b52860400>"
      ]
     },
     "execution_count": 68,
     "metadata": {},
     "output_type": "execute_result"
    },
    {
     "data": {
      "image/png": "[encoded data removed]",
      "text/plain": [
       "<Figure size 432x288 with 1 Axes>"
      ]
     },
     "metadata": {
      "needs_background": "light"
     },
     "output_type": "display_data"
    }
   ],
   "source": [
    "# Drugs related stop gender and race wise\n",
    "drugs_gender_race = ri.pivot_table(index='driver_race', columns = 'driver_gender', values = 'drugs_related_stop')\n",
    "print(drugs_gender_race)\n",
    "drugs_gender_race.plot(kind='bar')"
   ]
  },
  {
   "cell_type": "code",
   "execution_count": 62,
   "metadata": {},
   "outputs": [
    {
     "name": "stdout",
     "output_type": "stream",
     "text": [
      "driver_race\n",
      "Asian       11.001674\n",
      "Black       12.577615\n",
      "Hispanic    12.351804\n",
      "Other       10.339623\n",
      "White       11.537191\n",
      "Name: stop_minutes, dtype: float64\n"
     ]
    }
   ],
   "source": [
    "# stop length vs race\n",
    "stop_length_race = ri.groupby('driver_race').stop_minutes.mean()\n",
    "print(stop_length_race)"
   ]
  },
  {
   "cell_type": "code",
   "execution_count": 69,
   "metadata": {},
   "outputs": [
    {
     "name": "stdout",
     "output_type": "stream",
     "text": [
      "driver_gender          F          M\n",
      "driver_race                        \n",
      "Asian          10.551724  11.136561\n",
      "Black          11.459157  12.889838\n",
      "Hispanic       11.062980  12.675585\n",
      "Other           8.566038  10.783019\n",
      "White          10.750270  11.873794\n"
     ]
    },
    {
     "data": {
      "text/plain": [
       "<matplotlib.axes._subplots.AxesSubplot at 0x21b4fff9670>"
      ]
     },
     "execution_count": 69,
     "metadata": {},
     "output_type": "execute_result"
    },
    {
     "data": {
      "image/png": "[encoded data removed]",
      "text/plain": [
       "<Figure size 432x288 with 1 Axes>"
      ]
     },
     "metadata": {
      "needs_background": "light"
     },
     "output_type": "display_data"
    }
   ],
   "source": [
    "gender_race_stop_length = ri.pivot_table(index = 'driver_race', columns = 'driver_gender', values = 'stop_minutes')\n",
    "print(gender_race_stop_length)\n",
    "gender_race_stop_length.plot(kind='bar')"
   ]
  }
 ],
 "metadata": {
  "celltoolbar": "Tags",
  "kernelspec": {
   "display_name": "Python 3",
   "language": "python",
   "name": "python3"
  },
  "language_info": {
   "codemirror_mode": {
    "name": "ipython",
    "version": 3
   },
   "file_extension": ".py",
   "mimetype": "text/x-python",
   "name": "python",
   "nbconvert_exporter": "python",
   "pygments_lexer": "ipython3",
   "version": "3.8.3"
  }
 },
 "nbformat": 4,
 "nbformat_minor": 4
}
